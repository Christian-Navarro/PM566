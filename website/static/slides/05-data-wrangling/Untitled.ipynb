{
 "cells": [
  {
   "cell_type": "code",
   "execution_count": 16,
   "metadata": {},
   "outputs": [
    {
     "data": {
      "text/html": [
       "<div class='datatable'>\n",
       "  <table class='frame'>\n",
       "  <thead>\n",
       "    <tr class='colnames'><td class='row_index'></td><th>x</th><th>y</th><th>and</th><th>or</th><th>xor</th></tr>\n",
       "    <tr class='coltypes'><td class='row_index'></td><td class='boolean' title='bool8'>&#x25AA;</td><td class='boolean' title='bool8'>&#x25AA;</td><td class='boolean' title='bool8'>&#x25AA;</td><td class='boolean' title='bool8'>&#x25AA;</td><td class='boolean' title='bool8'>&#x25AA;</td></tr>\n",
       "  </thead>\n",
       "  <tbody>\n",
       "    <tr><td class='row_index'>0</td><td>1</td><td>0</td><td>0</td><td>1</td><td>1</td></tr>\n",
       "    <tr><td class='row_index'>1</td><td>1</td><td>1</td><td>1</td><td>1</td><td>0</td></tr>\n",
       "    <tr><td class='row_index'>2</td><td>0</td><td>1</td><td>0</td><td>1</td><td>1</td></tr>\n",
       "    <tr><td class='row_index'>3</td><td>0</td><td>0</td><td>0</td><td>0</td><td>0</td></tr>\n",
       "  </tbody>\n",
       "  </table>\n",
       "  <div class='footer'>\n",
       "    <div class='frame_dimensions'>4 rows &times; 5 columns</div>\n",
       "  </div>\n",
       "</div>\n"
      ],
      "text/plain": [
       "<Frame [4 rows x 5 cols]>"
      ]
     },
     "execution_count": 16,
     "metadata": {},
     "output_type": "execute_result"
    }
   ],
   "source": [
    "import numpy as np\n",
    "import datatable as dt\n",
    "x = [True, True, False, False]\n",
    "y = [False, True, True, False]\n",
    "ans = {\n",
    "    'x'   : x,\n",
    "    'y'   : y,\n",
    "    'and' : np.logical_and(x, y),\n",
    "    'or'  : np.logical_or(x, y),\n",
    "    'xor' : np.logical_xor(x, y)\n",
    "    }\n",
    "dt.Frame(ans)"
   ]
  },
  {
   "cell_type": "code",
   "execution_count": 17,
   "metadata": {},
   "outputs": [
    {
     "data": {
      "text/html": [
       "<div>\n",
       "<style scoped>\n",
       "    .dataframe tbody tr th:only-of-type {\n",
       "        vertical-align: middle;\n",
       "    }\n",
       "\n",
       "    .dataframe tbody tr th {\n",
       "        vertical-align: top;\n",
       "    }\n",
       "\n",
       "    .dataframe thead th {\n",
       "        text-align: right;\n",
       "    }\n",
       "</style>\n",
       "<table border=\"1\" class=\"dataframe\">\n",
       "  <thead>\n",
       "    <tr style=\"text-align: right;\">\n",
       "      <th></th>\n",
       "      <th>x</th>\n",
       "      <th>y</th>\n",
       "      <th>and</th>\n",
       "      <th>or</th>\n",
       "      <th>xor</th>\n",
       "    </tr>\n",
       "  </thead>\n",
       "  <tbody>\n",
       "    <tr>\n",
       "      <th>0</th>\n",
       "      <td>True</td>\n",
       "      <td>False</td>\n",
       "      <td>False</td>\n",
       "      <td>True</td>\n",
       "      <td>True</td>\n",
       "    </tr>\n",
       "    <tr>\n",
       "      <th>1</th>\n",
       "      <td>True</td>\n",
       "      <td>True</td>\n",
       "      <td>True</td>\n",
       "      <td>True</td>\n",
       "      <td>False</td>\n",
       "    </tr>\n",
       "    <tr>\n",
       "      <th>2</th>\n",
       "      <td>False</td>\n",
       "      <td>True</td>\n",
       "      <td>False</td>\n",
       "      <td>True</td>\n",
       "      <td>True</td>\n",
       "    </tr>\n",
       "    <tr>\n",
       "      <th>3</th>\n",
       "      <td>False</td>\n",
       "      <td>False</td>\n",
       "      <td>False</td>\n",
       "      <td>False</td>\n",
       "      <td>False</td>\n",
       "    </tr>\n",
       "  </tbody>\n",
       "</table>\n",
       "</div>"
      ],
      "text/plain": [
       "       x      y    and     or    xor\n",
       "0   True  False  False   True   True\n",
       "1   True   True   True   True  False\n",
       "2  False   True  False   True   True\n",
       "3  False  False  False  False  False"
      ]
     },
     "execution_count": 17,
     "metadata": {},
     "output_type": "execute_result"
    }
   ],
   "source": [
    "import pandas as pa\n",
    "pa.DataFrame(ans)"
   ]
  },
  {
   "cell_type": "code",
   "execution_count": 62,
   "metadata": {},
   "outputs": [
    {
     "data": {
      "text/html": [
       "<div>\n",
       "<style scoped>\n",
       "    .dataframe tbody tr th:only-of-type {\n",
       "        vertical-align: middle;\n",
       "    }\n",
       "\n",
       "    .dataframe tbody tr th {\n",
       "        vertical-align: top;\n",
       "    }\n",
       "\n",
       "    .dataframe thead th {\n",
       "        text-align: right;\n",
       "    }\n",
       "</style>\n",
       "<table border=\"1\" class=\"dataframe\">\n",
       "  <thead>\n",
       "    <tr style=\"text-align: right;\">\n",
       "      <th></th>\n",
       "      <th>x</th>\n",
       "      <th>y</th>\n",
       "      <th>and</th>\n",
       "      <th>or</th>\n",
       "      <th>xor</th>\n",
       "      <th>myxor</th>\n",
       "    </tr>\n",
       "  </thead>\n",
       "  <tbody>\n",
       "    <tr>\n",
       "      <th>0</th>\n",
       "      <td>True</td>\n",
       "      <td>False</td>\n",
       "      <td>False</td>\n",
       "      <td>True</td>\n",
       "      <td>True</td>\n",
       "      <td>True</td>\n",
       "    </tr>\n",
       "    <tr>\n",
       "      <th>1</th>\n",
       "      <td>True</td>\n",
       "      <td>True</td>\n",
       "      <td>True</td>\n",
       "      <td>True</td>\n",
       "      <td>False</td>\n",
       "      <td>False</td>\n",
       "    </tr>\n",
       "    <tr>\n",
       "      <th>2</th>\n",
       "      <td>False</td>\n",
       "      <td>True</td>\n",
       "      <td>False</td>\n",
       "      <td>True</td>\n",
       "      <td>True</td>\n",
       "      <td>True</td>\n",
       "    </tr>\n",
       "    <tr>\n",
       "      <th>3</th>\n",
       "      <td>False</td>\n",
       "      <td>False</td>\n",
       "      <td>False</td>\n",
       "      <td>False</td>\n",
       "      <td>False</td>\n",
       "      <td>False</td>\n",
       "    </tr>\n",
       "  </tbody>\n",
       "</table>\n",
       "</div>"
      ],
      "text/plain": [
       "       x      y    and     or    xor  myxor\n",
       "0   True  False  False   True   True   True\n",
       "1   True   True   True   True  False  False\n",
       "2  False   True  False   True   True   True\n",
       "3  False  False  False  False  False  False"
      ]
     },
     "execution_count": 62,
     "metadata": {},
     "output_type": "execute_result"
    }
   ],
   "source": [
    "def myxor(x,y):\n",
    "    return np.logical_or(\n",
    "        np.logical_and(x, np.logical_not(y)),\n",
    "        np.logical_and(np.logical_not(x), y)\n",
    "    )\n",
    "\n",
    "ans['myxor'] = myxor(x,y)\n",
    "pa.DataFrame(ans)"
   ]
  },
  {
   "cell_type": "code",
   "execution_count": 67,
   "metadata": {},
   "outputs": [
    {
     "data": {
      "text/html": [
       "<div class='datatable'>\n",
       "  <table class='frame'>\n",
       "  <thead>\n",
       "    <tr class='colnames'><td class='row_index'></td><th>USAFID</th><th>WBAN</th><th>year</th><th>month</th><th>day</th><th>hour</th><th>min</th><th>lat</th><th>lon</th><th>elev</th><th class='vellipsis'>&hellip;</th><th>dew.point</th><th>dew.point.qc</th><th>atm.press</th><th>atm.press.qc</th><th>rh</th></tr>\n",
       "    <tr class='coltypes'><td class='row_index'></td><td class='integer' title='int32'>&#x25AA;&#x25AA;&#x25AA;&#x25AA;</td><td class='integer' title='int32'>&#x25AA;&#x25AA;&#x25AA;&#x25AA;</td><td class='integer' title='int32'>&#x25AA;&#x25AA;&#x25AA;&#x25AA;</td><td class='integer' title='int32'>&#x25AA;&#x25AA;&#x25AA;&#x25AA;</td><td class='integer' title='int32'>&#x25AA;&#x25AA;&#x25AA;&#x25AA;</td><td class='integer' title='int32'>&#x25AA;&#x25AA;&#x25AA;&#x25AA;</td><td class='integer' title='int32'>&#x25AA;&#x25AA;&#x25AA;&#x25AA;</td><td class='float' title='float64'>&#x25AA;&#x25AA;&#x25AA;&#x25AA;&#x25AA;&#x25AA;&#x25AA;&#x25AA;</td><td class='float' title='float64'>&#x25AA;&#x25AA;&#x25AA;&#x25AA;&#x25AA;&#x25AA;&#x25AA;&#x25AA;</td><td class='integer' title='int32'>&#x25AA;&#x25AA;&#x25AA;&#x25AA;</td><td></td><td class='float' title='float64'>&#x25AA;&#x25AA;&#x25AA;&#x25AA;&#x25AA;&#x25AA;&#x25AA;&#x25AA;</td><td class='string' title='str32'>&#x25AA;&#x25AA;&#x25AA;&#x25AA;</td><td class='float' title='float64'>&#x25AA;&#x25AA;&#x25AA;&#x25AA;&#x25AA;&#x25AA;&#x25AA;&#x25AA;</td><td class='integer' title='int32'>&#x25AA;&#x25AA;&#x25AA;&#x25AA;</td><td class='float' title='float64'>&#x25AA;&#x25AA;&#x25AA;&#x25AA;&#x25AA;&#x25AA;&#x25AA;&#x25AA;</td></tr>\n",
       "  </thead>\n",
       "  <tbody>\n",
       "    <tr><td class='row_index'>0</td><td>690150</td><td>93121</td><td>2019</td><td>8</td><td>1</td><td>0</td><td>56</td><td>34.3</td><td>&minus;116.166</td><td>696</td><td class=vellipsis>&hellip;</td><td>10.6</td><td>5</td><td>1009.9</td><td>5</td><td>19.8813</td></tr>\n",
       "    <tr><td class='row_index'>1</td><td>690150</td><td>93121</td><td>2019</td><td>8</td><td>1</td><td>1</td><td>56</td><td>34.3</td><td>&minus;116.166</td><td>696</td><td class=vellipsis>&hellip;</td><td>10.6</td><td>5</td><td>1010.3</td><td>5</td><td>21.761</td></tr>\n",
       "    <tr><td class='row_index'>2</td><td>690150</td><td>93121</td><td>2019</td><td>8</td><td>1</td><td>2</td><td>56</td><td>34.3</td><td>&minus;116.166</td><td>696</td><td class=vellipsis>&hellip;</td><td>7.2</td><td>5</td><td>1010.6</td><td>5</td><td>18.4821</td></tr>\n",
       "    <tr><td class='row_index'>3</td><td>690150</td><td>93121</td><td>2019</td><td>8</td><td>1</td><td>3</td><td>56</td><td>34.3</td><td>&minus;116.166</td><td>696</td><td class=vellipsis>&hellip;</td><td>5</td><td>5</td><td>1011.6</td><td>5</td><td>16.8886</td></tr>\n",
       "    <tr><td class='row_index'>4</td><td>690150</td><td>93121</td><td>2019</td><td>8</td><td>1</td><td>4</td><td>56</td><td>34.3</td><td>&minus;116.166</td><td>696</td><td class=vellipsis>&hellip;</td><td>5</td><td>5</td><td>1012.7</td><td>5</td><td>17.3841</td></tr>\n",
       "    <tr><td class='row_index'>5</td><td>690150</td><td>93121</td><td>2019</td><td>8</td><td>1</td><td>5</td><td>56</td><td>34.3</td><td>&minus;116.166</td><td>696</td><td class=vellipsis>&hellip;</td><td>5.6</td><td>5</td><td>1012.7</td><td>5</td><td>20.0154</td></tr>\n",
       "    <tr><td class='row_index'>6</td><td>690150</td><td>93121</td><td>2019</td><td>8</td><td>1</td><td>6</td><td>56</td><td>34.3</td><td>&minus;116.166</td><td>696</td><td class=vellipsis>&hellip;</td><td>6.1</td><td>5</td><td>1012.8</td><td>5</td><td>22.8991</td></tr>\n",
       "    <tr><td class='row_index'>7</td><td>690150</td><td>93121</td><td>2019</td><td>8</td><td>1</td><td>7</td><td>56</td><td>34.3</td><td>&minus;116.166</td><td>696</td><td class=vellipsis>&hellip;</td><td>6.7</td><td>5</td><td>1012.8</td><td>5</td><td>24.5858</td></tr>\n",
       "    <tr><td class='row_index'>8</td><td>690150</td><td>93121</td><td>2019</td><td>8</td><td>1</td><td>8</td><td>56</td><td>34.3</td><td>&minus;116.166</td><td>696</td><td class=vellipsis>&hellip;</td><td>7.8</td><td>5</td><td>1012.5</td><td>5</td><td>29.3298</td></tr>\n",
       "    <tr><td class='row_index'>9</td><td>690150</td><td>93121</td><td>2019</td><td>8</td><td>1</td><td>9</td><td>56</td><td>34.3</td><td>&minus;116.166</td><td>696</td><td class=vellipsis>&hellip;</td><td>7.8</td><td>5</td><td>1012.7</td><td>5</td><td>30.2181</td></tr>\n",
       "    <tr><td class='row_index'>10</td><td>690150</td><td>93121</td><td>2019</td><td>8</td><td>1</td><td>10</td><td>56</td><td>34.296</td><td>&minus;116.162</td><td>625</td><td class=vellipsis>&hellip;</td><td>8.3</td><td>1</td><td>1012.8</td><td>1</td><td>31.2656</td></tr>\n",
       "    <tr><td class='row_index'>11</td><td>690150</td><td>93121</td><td>2019</td><td>8</td><td>1</td><td>11</td><td>56</td><td>34.296</td><td>&minus;116.162</td><td>625</td><td class=vellipsis>&hellip;</td><td>9.4</td><td>1</td><td>1013</td><td>1</td><td>35.9751</td></tr>\n",
       "    <tr><td class='row_index'>12</td><td>690150</td><td>93121</td><td>2019</td><td>8</td><td>1</td><td>12</td><td>56</td><td>34.3</td><td>&minus;116.166</td><td>696</td><td class=vellipsis>&hellip;</td><td>6.7</td><td>5</td><td>1013.6</td><td>5</td><td>29.9333</td></tr>\n",
       "    <tr><td class='row_index'>13</td><td>690150</td><td>93121</td><td>2019</td><td>8</td><td>1</td><td>13</td><td>56</td><td>34.3</td><td>&minus;116.166</td><td>696</td><td class=vellipsis>&hellip;</td><td>5.6</td><td>5</td><td>1014.6</td><td>5</td><td>27.739</td></tr>\n",
       "    <tr><td class='row_index'>14</td><td>690150</td><td>93121</td><td>2019</td><td>8</td><td>1</td><td>14</td><td>56</td><td>34.3</td><td>&minus;116.166</td><td>696</td><td class=vellipsis>&hellip;</td><td>5.6</td><td>5</td><td>1015</td><td>5</td><td>24.3147</td></tr>\n",
       "    <tr><td class='row_index'>&#x22EE;</td><td class='hellipsis'>&#x22EE;</td><td class='hellipsis'>&#x22EE;</td><td class='hellipsis'>&#x22EE;</td><td class='hellipsis'>&#x22EE;</td><td class='hellipsis'>&#x22EE;</td><td class='hellipsis'>&#x22EE;</td><td class='hellipsis'>&#x22EE;</td><td class='hellipsis'>&#x22EE;</td><td class='hellipsis'>&#x22EE;</td><td class='hellipsis'>&#x22EE;</td><td class='hellipsis'>&#x22F1;</td><td class='hellipsis'>&#x22EE;</td><td class='hellipsis'>&#x22EE;</td><td class='hellipsis'>&#x22EE;</td><td class='hellipsis'>&#x22EE;</td><td class='hellipsis'>&#x22EE;</td></tr>\n",
       "    <tr><td class='row_index'>2,377,338</td><td>726813</td><td>94195</td><td>2019</td><td>8</td><td>31</td><td>19</td><td>56</td><td>43.65</td><td>&minus;116.633</td><td>741</td><td class=vellipsis>&hellip;</td><td>12.2</td><td>5</td><td>1012.8</td><td>5</td><td>29.4069</td></tr>\n",
       "    <tr><td class='row_index'>2,377,339</td><td>726813</td><td>94195</td><td>2019</td><td>8</td><td>31</td><td>20</td><td>56</td><td>43.65</td><td>&minus;116.633</td><td>741</td><td class=vellipsis>&hellip;</td><td>12.2</td><td>5</td><td>1011.6</td><td>5</td><td>27.6042</td></tr>\n",
       "    <tr><td class='row_index'>2,377,340</td><td>726813</td><td>94195</td><td>2019</td><td>8</td><td>31</td><td>21</td><td>56</td><td>43.65</td><td>&minus;116.633</td><td>741</td><td class=vellipsis>&hellip;</td><td>9.4</td><td>5</td><td>1010.8</td><td>5</td><td>20.7632</td></tr>\n",
       "    <tr><td class='row_index'>2,377,341</td><td>726813</td><td>94195</td><td>2019</td><td>8</td><td>31</td><td>22</td><td>56</td><td>43.642</td><td>&minus;116.636</td><td>741</td><td class=vellipsis>&hellip;</td><td>9.4</td><td>1</td><td>1010.1</td><td>1</td><td>21.4863</td></tr>\n",
       "    <tr><td class='row_index'>2,377,342</td><td>726813</td><td>94195</td><td>2019</td><td>8</td><td>31</td><td>23</td><td>56</td><td>43.642</td><td>&minus;116.636</td><td>741</td><td class=vellipsis>&hellip;</td><td>9.4</td><td>1</td><td>1009.6</td><td>1</td><td>21.4863</td></tr>\n",
       "  </tbody>\n",
       "  </table>\n",
       "  <div class='footer'>\n",
       "    <div class='frame_dimensions'>2,377,343 rows &times; 30 columns</div>\n",
       "  </div>\n",
       "</div>\n"
      ],
      "text/plain": [
       "<Frame [2377343 rows x 30 cols]>"
      ]
     },
     "execution_count": 67,
     "metadata": {},
     "output_type": "execute_result"
    }
   ],
   "source": [
    "import datatable as dt\n",
    "dat = dt.fread(\"met.gz\")\n",
    "dat"
   ]
  },
  {
   "cell_type": "code",
   "execution_count": 68,
   "metadata": {},
   "outputs": [
    {
     "data": {
      "text/html": [
       "<div class='datatable'>\n",
       "  <table class='frame'>\n",
       "  <thead>\n",
       "    <tr class='colnames'><td class='row_index'></td><th>USAFID</th><th>WBAN</th><th>year</th><th>month</th><th>day</th><th>hour</th><th>min</th><th>lat</th><th>lon</th><th>elev</th><th class='vellipsis'>&hellip;</th><th>dew.point</th><th>dew.point.qc</th><th>atm.press</th><th>atm.press.qc</th><th>rh</th></tr>\n",
       "    <tr class='coltypes'><td class='row_index'></td><td class='integer' title='int32'>&#x25AA;&#x25AA;&#x25AA;&#x25AA;</td><td class='integer' title='int32'>&#x25AA;&#x25AA;&#x25AA;&#x25AA;</td><td class='integer' title='int32'>&#x25AA;&#x25AA;&#x25AA;&#x25AA;</td><td class='integer' title='int32'>&#x25AA;&#x25AA;&#x25AA;&#x25AA;</td><td class='integer' title='int32'>&#x25AA;&#x25AA;&#x25AA;&#x25AA;</td><td class='integer' title='int32'>&#x25AA;&#x25AA;&#x25AA;&#x25AA;</td><td class='integer' title='int32'>&#x25AA;&#x25AA;&#x25AA;&#x25AA;</td><td class='float' title='float64'>&#x25AA;&#x25AA;&#x25AA;&#x25AA;&#x25AA;&#x25AA;&#x25AA;&#x25AA;</td><td class='float' title='float64'>&#x25AA;&#x25AA;&#x25AA;&#x25AA;&#x25AA;&#x25AA;&#x25AA;&#x25AA;</td><td class='integer' title='int32'>&#x25AA;&#x25AA;&#x25AA;&#x25AA;</td><td></td><td class='float' title='float64'>&#x25AA;&#x25AA;&#x25AA;&#x25AA;&#x25AA;&#x25AA;&#x25AA;&#x25AA;</td><td class='string' title='str32'>&#x25AA;&#x25AA;&#x25AA;&#x25AA;</td><td class='float' title='float64'>&#x25AA;&#x25AA;&#x25AA;&#x25AA;&#x25AA;&#x25AA;&#x25AA;&#x25AA;</td><td class='integer' title='int32'>&#x25AA;&#x25AA;&#x25AA;&#x25AA;</td><td class='float' title='float64'>&#x25AA;&#x25AA;&#x25AA;&#x25AA;&#x25AA;&#x25AA;&#x25AA;&#x25AA;</td></tr>\n",
       "  </thead>\n",
       "  <tbody>\n",
       "    <tr><td class='row_index'>0</td><td>690150</td><td>93121</td><td>2019</td><td>8</td><td>1</td><td>0</td><td>56</td><td>34.3</td><td>&minus;116.166</td><td>696</td><td class=vellipsis>&hellip;</td><td>10.6</td><td>5</td><td>1009.9</td><td>5</td><td>19.8813</td></tr>\n",
       "    <tr><td class='row_index'>1</td><td>690150</td><td>93121</td><td>2019</td><td>8</td><td>1</td><td>1</td><td>56</td><td>34.3</td><td>&minus;116.166</td><td>696</td><td class=vellipsis>&hellip;</td><td>10.6</td><td>5</td><td>1010.3</td><td>5</td><td>21.761</td></tr>\n",
       "    <tr><td class='row_index'>2</td><td>690150</td><td>93121</td><td>2019</td><td>8</td><td>1</td><td>2</td><td>56</td><td>34.3</td><td>&minus;116.166</td><td>696</td><td class=vellipsis>&hellip;</td><td>7.2</td><td>5</td><td>1010.6</td><td>5</td><td>18.4821</td></tr>\n",
       "    <tr><td class='row_index'>3</td><td>690150</td><td>93121</td><td>2019</td><td>8</td><td>1</td><td>3</td><td>56</td><td>34.3</td><td>&minus;116.166</td><td>696</td><td class=vellipsis>&hellip;</td><td>5</td><td>5</td><td>1011.6</td><td>5</td><td>16.8886</td></tr>\n",
       "    <tr><td class='row_index'>4</td><td>690150</td><td>93121</td><td>2019</td><td>8</td><td>1</td><td>4</td><td>56</td><td>34.3</td><td>&minus;116.166</td><td>696</td><td class=vellipsis>&hellip;</td><td>5</td><td>5</td><td>1012.7</td><td>5</td><td>17.3841</td></tr>\n",
       "  </tbody>\n",
       "  </table>\n",
       "  <div class='footer'>\n",
       "    <div class='frame_dimensions'>5 rows &times; 30 columns</div>\n",
       "  </div>\n",
       "</div>\n"
      ],
      "text/plain": [
       "<Frame [5 rows x 30 cols]>"
      ]
     },
     "execution_count": 68,
     "metadata": {},
     "output_type": "execute_result"
    }
   ],
   "source": [
    "dat.head(5)"
   ]
  },
  {
   "cell_type": "code",
   "execution_count": 79,
   "metadata": {},
   "outputs": [
    {
     "data": {
      "text/plain": [
       "(27623, 30)"
      ]
     },
     "execution_count": 79,
     "metadata": {},
     "output_type": "execute_result"
    }
   ],
   "source": [
    "dat[dt.f.day == 1,:][dt.f.lat > 40,:][(dt.f.elev < 500) | (dt.f.elev > 1000),:]\n",
    "dat[(dt.f.day == 1) & (dt.f.lat > 40) & ((dt.f.elev < 500) | (dt.f.elev > 1000)),:].shape"
   ]
  },
  {
   "cell_type": "code",
   "execution_count": 80,
   "metadata": {},
   "outputs": [
    {
     "data": {
      "text/plain": [
       "2377343"
      ]
     },
     "execution_count": 80,
     "metadata": {},
     "output_type": "execute_result"
    }
   ],
   "source": [
    "dat.nrows"
   ]
  },
  {
   "cell_type": "code",
   "execution_count": null,
   "metadata": {},
   "outputs": [],
   "source": []
  }
 ],
 "metadata": {
  "kernelspec": {
   "display_name": "Python 3",
   "language": "python",
   "name": "python3"
  },
  "language_info": {
   "codemirror_mode": {
    "name": "ipython",
    "version": 3
   },
   "file_extension": ".py",
   "mimetype": "text/x-python",
   "name": "python",
   "nbconvert_exporter": "python",
   "pygments_lexer": "ipython3",
   "version": "3.6.9"
  }
 },
 "nbformat": 4,
 "nbformat_minor": 4
}
